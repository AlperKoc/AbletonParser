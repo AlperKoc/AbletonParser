{
 "cells": [
  {
   "cell_type": "markdown",
   "id": "1fdda79d-a8e8-4da2-88c7-5f50d4596857",
   "metadata": {},
   "source": [
    "### Packages"
   ]
  },
  {
   "cell_type": "code",
   "execution_count": 19,
   "id": "543d2aa7-abcd-46c1-a1fc-bf6251115755",
   "metadata": {},
   "outputs": [],
   "source": [
    "import os\n",
    "import shutil\n",
    "import datetime\n",
    "import xmltodict\n",
    "import xml.etree.ElementTree as et\n",
    "import json\n",
    "import missingno as msno\n",
    "import pandas as pd\n",
    "import math\n",
    "import numpy as np\n",
    "import matplotlib.pyplot as plt\n",
    "pd.set_option('display.max_rows', 200)\n",
    "\n",
    "\n",
    "import yaml\n",
    "with open('/Users/alper/Library/Mobile Documents/com~apple~CloudDocs/Alper/Programming/config.yaml', 'r') as config:\n",
    "    config = yaml.safe_load(config)\n",
    "\n",
    "path_sessions = config[\"paths\"][\"sessions\"]\n",
    "path_music = config[\"paths\"][\"music\"]"
   ]
  },
  {
   "cell_type": "markdown",
   "id": "56f437ed-5d63-4358-90db-23264ee71732",
   "metadata": {},
   "source": [
    "### Set Paths and Create 7z (and zip)"
   ]
  },
  {
   "cell_type": "code",
   "execution_count": 20,
   "id": "71cddfe9-ea2e-4271-9f0c-6e7408d3c89d",
   "metadata": {},
   "outputs": [
    {
     "name": "stdout",
     "output_type": "stream",
     "text": [
      "/Users/alper/Library/Mobile Documents/com~apple~CloudDocs/Alper/Programming/Alper.AbletonParser/data/ProcessingTest Project/ProcessingTest\n"
     ]
    }
   ],
   "source": [
    "root_folder = \"/Users/alper/Library/Mobile Documents/com~apple~CloudDocs/Alper/Programming/Alper.AbletonParser/data/ProcessingTest Project\"\n",
    "\n",
    "processing_folder = \"/Users/Alper/Documents/Processing/Sense\"\n",
    "file = \"ProcessingTest\"\n",
    "file_als = file+\".als\"\n",
    "file_7z  = file+\".7z\"\n",
    "file_zip = file+\".zip\"\n",
    "file_xml = file+\".xml\"\n",
    "\n",
    "shutil.copy(os.path.join(root_folder,file_als),\n",
    "            os.path.join(root_folder,file_7z))\n",
    "\n",
    "shutil.copy(os.path.join(root_folder,file_als),\n",
    "            os.path.join(root_folder,file_zip))\n",
    "\n",
    "print(os.path.join(root_folder,file))"
   ]
  },
  {
   "cell_type": "markdown",
   "id": "09384dee-9160-4137-ac8a-1251d7ff9cac",
   "metadata": {},
   "source": [
    "# TODO Before Running Below Cells\n",
    "- go to 'root_folder' and extract the created .7z file with any unarchiver app so we can read the extracted xml file in the below cells"
   ]
  },
  {
   "cell_type": "markdown",
   "id": "b214f1bc-a606-47f2-a3f8-421bee4ca8d6",
   "metadata": {},
   "source": [
    "### Helper Functions"
   ]
  },
  {
   "cell_type": "code",
   "execution_count": 21,
   "id": "61288deb-b98f-4347-9e62-93862d74ca6e",
   "metadata": {},
   "outputs": [],
   "source": [
    "def calculator(bpm=120,fps=30):    \n",
    "    \n",
    "    meta = {}\n",
    "    print(bpm,'beats per minute')\n",
    "\n",
    "    bps = bpm/60\n",
    "    print(bps,'beats per second')\n",
    "    \n",
    "    spb = 60/bpm\n",
    "    print(spb,'seconds per beat')\n",
    "    \n",
    "    spbr = spb * 4\n",
    "    print(spbr,'seconds per bar')\n",
    "    \n",
    "    fpb = fps*spb\n",
    "    print(fpb,'frames per beat')\n",
    "    \n",
    "    fpbr = fpb*4\n",
    "    print(fpbr,'frames per bar')\n",
    "    \n",
    "    freq = 1/fps\n",
    "    print(fpbr,'frequency')\n",
    "\n",
    " \n",
    "\n",
    "    meta['bpm'] = bpm\n",
    "    meta['fps'] = fps\n",
    "    meta['bps'] = bps\n",
    "    meta['spb'] = spb\n",
    "    meta['spbr'] = spbr\n",
    "    meta['fpb'] = fpb\n",
    "    meta['fpbr'] = fpbr\n",
    "    meta['freq'] = freq\n",
    "\n",
    "    return meta\n",
    "\n",
    "def plot_df(df, which_plot = '2'):\n",
    "    # plot 1\n",
    "    if which_plot == '1':\n",
    "        df.plot(figsize=(30,6))\n",
    "    \n",
    "    # plot 2\n",
    "    elif which_plot == '2':\n",
    "\n",
    "\n",
    "        axes = df.plot(subplots=True, layout=(6, 1), figsize=(15, 10))\n",
    "\n",
    "        axes = axes.flat  # .ravel() and .flatten() also work\n",
    "\n",
    "        fig = axes[0].get_figure()\n",
    "\n",
    "        for ax in axes:\n",
    "\n",
    "            ax.legend(loc='upper right', \n",
    "                      # bbox_to_anchor=(0.5, 1.10), \n",
    "                      frameon=True)\n",
    "\n",
    "        fig.suptitle('Automations', fontsize=22, y=0.95)\n",
    "        plt.show()\n",
    "        \n",
    "    elif which_plot == '12':\n",
    "        plot_df(df,'1')\n",
    "        plot_df(df,'2')"
   ]
  },
  {
   "cell_type": "markdown",
   "id": "ed83bf0e-7dd5-49a4-a09e-229574288356",
   "metadata": {},
   "source": [
    "### .als XML to .als Dict"
   ]
  },
  {
   "cell_type": "code",
   "execution_count": 22,
   "id": "d5daac93-13e7-4150-aa64-b0f1ebe0c690",
   "metadata": {},
   "outputs": [],
   "source": [
    "xml_doc_path = os.path.join(root_folder,file)\n",
    "xml_tree = et.parse(xml_doc_path)\n",
    "root = xml_tree.getroot()\n",
    "to_string  = et.tostring(root, encoding='UTF-8', method='xml')\n",
    "xml_to_dict = xmltodict.parse(to_string)\n",
    "\n",
    "miditracks = xml_to_dict['Ableton']['LiveSet']['Tracks']['MidiTrack']"
   ]
  },
  {
   "cell_type": "markdown",
   "id": "1e1c3775-36c8-4a31-98a4-e35bb8909c72",
   "metadata": {},
   "source": [
    "### Check Content"
   ]
  },
  {
   "cell_type": "code",
   "execution_count": 23,
   "id": "0d33e028-4e3b-44bc-a658-ba2a758e3d2c",
   "metadata": {},
   "outputs": [
    {
     "data": {
      "text/plain": [
       "dict_keys(['@Id', 'LomId', 'LomIdView', 'IsContentSelectedInDocument', 'PreferredContentViewMode', 'TrackDelay', 'Name', 'Color', 'AutomationEnvelopes', 'TrackGroupId', 'TrackUnfolded', 'DevicesListWrapper', 'ClipSlotsListWrapper', 'ViewData', 'TakeLanes', 'LinkedTrackGroupId', 'SavedPlayingSlot', 'SavedPlayingOffset', 'Freeze', 'VelocityDetail', 'NeedArrangerRefreeze', 'PostProcessFreezeClips', 'DeviceChain', 'ReWireSlaveMidiTargetId', 'PitchbendRange'])"
      ]
     },
     "execution_count": 23,
     "metadata": {},
     "output_type": "execute_result"
    }
   ],
   "source": [
    "miditracks[0].keys()\n",
    "# miditracks[0]['AutomationEnvelopes']['Envelopes']['AutomationEnvelope'][1]['Automation'] # Automations are here\n",
    "# miditracks[0]['DeviceChain'].keys() # Macro IDs"
   ]
  },
  {
   "cell_type": "markdown",
   "id": "fbb5c0a1-ca2a-46f4-b100-8438e662092b",
   "metadata": {},
   "source": [
    "### Track Metadata and Useful Calculations"
   ]
  },
  {
   "cell_type": "code",
   "execution_count": 24,
   "id": "c1868a2b-3dee-434f-8851-c7a44e3da345",
   "metadata": {},
   "outputs": [
    {
     "name": "stdout",
     "output_type": "stream",
     "text": [
      "120 beats per minute\n",
      "2.0 beats per second\n",
      "0.5 seconds per beat\n",
      "2.0 seconds per bar\n",
      "15.0 frames per beat\n",
      "60.0 frames per bar\n",
      "60.0 frequency\n"
     ]
    },
    {
     "data": {
      "text/plain": [
       "{'bpm': 120,\n",
       " 'fps': 30,\n",
       " 'bps': 2.0,\n",
       " 'spb': 0.5,\n",
       " 'spbr': 2.0,\n",
       " 'fpb': 15.0,\n",
       " 'fpbr': 60.0,\n",
       " 'freq': 0.03333333333333333}"
      ]
     },
     "execution_count": 24,
     "metadata": {},
     "output_type": "execute_result"
    }
   ],
   "source": [
    "meta = calculator(bpm=120,fps=30)\n",
    "meta"
   ]
  },
  {
   "cell_type": "markdown",
   "id": "37998436-cb12-4e8a-9c8a-3f16071860a4",
   "metadata": {},
   "source": [
    "### Extract Automations From .als Dict"
   ]
  },
  {
   "cell_type": "code",
   "execution_count": 25,
   "id": "63acc483-53bc-4448-a5f5-5cd593c08197",
   "metadata": {},
   "outputs": [
    {
     "name": "stdout",
     "output_type": "stream",
     "text": [
      "Name: Kick\n",
      "Automation Envelope Name: Size\n",
      "Automation Envelope Name: Pan\n",
      "Name: Hihat\n",
      "Automation Envelope Name: Size\n",
      "Name: Clap\n",
      "Automation Envelope Name: Size\n",
      "Name: Bass\n",
      "Automation Envelope Name: Size\n"
     ]
    }
   ],
   "source": [
    "# track_automations Structure:\n",
    "## dict['Kick']['Automation1] etc.\n",
    "## each value contains list of automation points \n",
    "track_automations = {}\n",
    "\n",
    "for track in miditracks:\n",
    "    \n",
    "    track_name = track['Name']['EffectiveName']['@Value']\n",
    "    print(\"Name:\",track_name)\n",
    "    \n",
    "    color = track['Color']['@Value']\n",
    "    # print(\"Color:\",color)\n",
    "    \n",
    "    envelope = track['AutomationEnvelopes']['Envelopes']['AutomationEnvelope']\n",
    "\n",
    "    if type(envelope) != list:\n",
    "        envelope = [envelope]    \n",
    "\n",
    "    if True:\n",
    "        for ix, env in enumerate(envelope):\n",
    "        \n",
    "            envelope_id = env['@Id']\n",
    "            # print(\"Automation Envelope ID:\",envelope_id)\n",
    "            envelope_name = track['DeviceChain']['DeviceChain']['Devices']['MidiEffectGroupDevice'][\"MacroDisplayNames.\"+str(ix)]['@Value']\n",
    "            print(\"Automation Envelope Name:\",envelope_name)\n",
    "\n",
    "            automation_target = env['EnvelopeTarget']['PointeeId']['@Value']\n",
    "            # print(\"Automation Envelope Target:\",automation_target)\n",
    "    \n",
    "            automation_list = env['Automation']['Events']['FloatEvent']\n",
    "            points_dict = {}\n",
    "\n",
    "            # Iterate and collect automation points\n",
    "            for p in automation_list:\n",
    "                _id = p['@Id']\n",
    "                _time = float(p['@Time']) / meta['spbr'] # bar to seconds\n",
    "                _value = p['@Value']\n",
    "\n",
    "                points_dict[_time] = {}\n",
    "                points_dict[_time]['value'] = _value\n",
    "                \n",
    "            # If only one automation, then no need to add prefix\n",
    "            if len(envelope) > 1:\n",
    "                track_automations[track_name+'_'+envelope_name] = points_dict\n",
    "            else:\n",
    "                track_automations[track_name] = points_dict\n",
    "\n"
   ]
  },
  {
   "cell_type": "markdown",
   "id": "40bb8858-76bf-416f-ba68-a32787d7bfcd",
   "metadata": {},
   "source": [
    "### Automations Dict to DF"
   ]
  },
  {
   "cell_type": "code",
   "execution_count": 26,
   "id": "cabfde97-bfb3-4e0f-83ca-e6040c15f6d9",
   "metadata": {},
   "outputs": [],
   "source": [
    "# def automations_dict_to_df(track_automations):\n",
    "#     # del track_automations['Kick_Pan']\n",
    "#     df_list = []\n",
    "#     df = pd.DataFrame()\n",
    "\n",
    "\n",
    "#     for track in track_automations.keys():\n",
    "#         track_dict = track_automations[track]\n",
    "#         track_df = pd.DataFrame.from_dict(track_dict).T\n",
    "#         track_df.columns = [track]\n",
    "\n",
    "#         df_list.append(track_df)\n",
    "#         df = df.join(track_df,how='outer')\n",
    "#         # pd.concat({k: pd.DataFrame(v).T for k, v in user_dict.items()}, axis=0)\n",
    "\n",
    "#     df = df.reset_index().rename(columns={'index': 'Time'}).iloc[1:]\n",
    "#     df.Time = list(map(float,df.Time))\n",
    "#     df.Time = pd.to_timedelta(df.Time, unit=\"S\")\n",
    "#     df.index = df.Time\n",
    "\n",
    "#     df['Seconds'] = df['Time'] - df['Time'].iloc[0]\n",
    "#     df['Seconds'] = (df['Seconds'] / np.timedelta64(1,'s')).astype(float)\n",
    "#     df.drop(columns = ['Time'],inplace=True)\n",
    "\n",
    "#     df = df.astype(float)\n",
    "#     return df\n",
    "\n",
    "# df = automations_dict_to_df(track_automations)\n",
    "# # df.drop(columns=['Kick_Pan'],inplace=True)\n",
    "\n"
   ]
  },
  {
   "cell_type": "code",
   "execution_count": 27,
   "id": "359f1cd7-62fc-4ca5-a0fb-0af837cde97a",
   "metadata": {},
   "outputs": [
    {
     "name": "stdout",
     "output_type": "stream",
     "text": [
      "120 beats per minute\n",
      "2.0 beats per second\n",
      "0.5 seconds per beat\n",
      "2.0 seconds per bar\n",
      "15.0 frames per beat\n",
      "60.0 frames per bar\n",
      "60.0 frequency\n",
      "{'bpm': 120, 'fps': 30, 'bps': 2.0, 'spb': 0.5, 'spbr': 2.0, 'fpb': 15.0, 'fpbr': 60.0, 'freq': 0.03333333333333333}\n"
     ]
    }
   ],
   "source": [
    "# Retrieve metadata\n",
    "meta = calculator(bpm=120,fps=30)\n",
    "print(meta)"
   ]
  },
  {
   "cell_type": "code",
   "execution_count": 30,
   "id": "2fdb9a3d-0bd6-4d17-8f74-7f4cf3515a5c",
   "metadata": {},
   "outputs": [
    {
     "name": "stdout",
     "output_type": "stream",
     "text": [
      "Kick_Size\n",
      "key value -  0.0 0.0\n",
      "key value -  12.5741844 0.0030940413752913753\n"
     ]
    },
    {
     "ename": "KeyError",
     "evalue": "0.0030940413752913753",
     "output_type": "error",
     "traceback": [
      "\u001b[0;31m---------------------------------------------------------------------------\u001b[0m",
      "\u001b[0;31mKeyError\u001b[0m                                  Traceback (most recent call last)",
      "File \u001b[0;32m~/.pyenv/versions/3.10.13/envs/music310/lib/python3.10/site-packages/pandas/core/indexes/base.py:3790\u001b[0m, in \u001b[0;36mIndex.get_loc\u001b[0;34m(self, key)\u001b[0m\n\u001b[1;32m   3789\u001b[0m \u001b[39mtry\u001b[39;00m:\n\u001b[0;32m-> 3790\u001b[0m     \u001b[39mreturn\u001b[39;00m \u001b[39mself\u001b[39;49m\u001b[39m.\u001b[39;49m_engine\u001b[39m.\u001b[39;49mget_loc(casted_key)\n\u001b[1;32m   3791\u001b[0m \u001b[39mexcept\u001b[39;00m \u001b[39mKeyError\u001b[39;00m \u001b[39mas\u001b[39;00m err:\n",
      "File \u001b[0;32mindex.pyx:152\u001b[0m, in \u001b[0;36mpandas._libs.index.IndexEngine.get_loc\u001b[0;34m()\u001b[0m\n",
      "File \u001b[0;32mindex.pyx:181\u001b[0m, in \u001b[0;36mpandas._libs.index.IndexEngine.get_loc\u001b[0;34m()\u001b[0m\n",
      "File \u001b[0;32mpandas/_libs/hashtable_class_helper.pxi:1698\u001b[0m, in \u001b[0;36mpandas._libs.hashtable.Float64HashTable.get_item\u001b[0;34m()\u001b[0m\n",
      "File \u001b[0;32mpandas/_libs/hashtable_class_helper.pxi:1722\u001b[0m, in \u001b[0;36mpandas._libs.hashtable.Float64HashTable.get_item\u001b[0;34m()\u001b[0m\n",
      "\u001b[0;31mKeyError\u001b[0m: 0.0030940413752913753",
      "\nThe above exception was the direct cause of the following exception:\n",
      "\u001b[0;31mKeyError\u001b[0m                                  Traceback (most recent call last)",
      "\u001b[1;32m/Users/alper/Library/Mobile Documents/com~apple~CloudDocs/Alper/Programming/Alper.AbletonParser/notebooks/AbletonParser.ipynb Cell 19\u001b[0m line \u001b[0;36m1\n\u001b[1;32m     <a href='vscode-notebook-cell:/Users/alper/Library/Mobile%20Documents/com~apple~CloudDocs/Alper/Programming/Alper.AbletonParser/notebooks/AbletonParser.ipynb#X24sZmlsZQ%3D%3D?line=15'>16</a>\u001b[0m     \u001b[39mcontinue\u001b[39;00m\n\u001b[1;32m     <a href='vscode-notebook-cell:/Users/alper/Library/Mobile%20Documents/com~apple~CloudDocs/Alper/Programming/Alper.AbletonParser/notebooks/AbletonParser.ipynb#X24sZmlsZQ%3D%3D?line=17'>18</a>\u001b[0m \u001b[39mprint\u001b[39m(\u001b[39m'\u001b[39m\u001b[39mkey value - \u001b[39m\u001b[39m'\u001b[39m,vv,tt)\n\u001b[0;32m---> <a href='vscode-notebook-cell:/Users/alper/Library/Mobile%20Documents/com~apple~CloudDocs/Alper/Programming/Alper.AbletonParser/notebooks/AbletonParser.ipynb#X24sZmlsZQ%3D%3D?line=18'>19</a>\u001b[0m ix \u001b[39m=\u001b[39m df\u001b[39m.\u001b[39;49mindex\u001b[39m.\u001b[39;49mget_loc(tt)\u001b[39m#, method='nearest')\u001b[39;00m\n\u001b[1;32m     <a href='vscode-notebook-cell:/Users/alper/Library/Mobile%20Documents/com~apple~CloudDocs/Alper/Programming/Alper.AbletonParser/notebooks/AbletonParser.ipynb#X24sZmlsZQ%3D%3D?line=19'>20</a>\u001b[0m \u001b[39m# idx = df.index[df.index.get_loc(kk, method='nearest')]\u001b[39;00m\n\u001b[1;32m     <a href='vscode-notebook-cell:/Users/alper/Library/Mobile%20Documents/com~apple~CloudDocs/Alper/Programming/Alper.AbletonParser/notebooks/AbletonParser.ipynb#X24sZmlsZQ%3D%3D?line=20'>21</a>\u001b[0m \u001b[39m# print (ix)\u001b[39;00m\n\u001b[1;32m     <a href='vscode-notebook-cell:/Users/alper/Library/Mobile%20Documents/com~apple~CloudDocs/Alper/Programming/Alper.AbletonParser/notebooks/AbletonParser.ipynb#X24sZmlsZQ%3D%3D?line=21'>22</a>\u001b[0m df[track]\u001b[39m.\u001b[39miloc[ix] \u001b[39m=\u001b[39m vv\n",
      "File \u001b[0;32m~/.pyenv/versions/3.10.13/envs/music310/lib/python3.10/site-packages/pandas/core/indexes/base.py:3797\u001b[0m, in \u001b[0;36mIndex.get_loc\u001b[0;34m(self, key)\u001b[0m\n\u001b[1;32m   3792\u001b[0m     \u001b[39mif\u001b[39;00m \u001b[39misinstance\u001b[39m(casted_key, \u001b[39mslice\u001b[39m) \u001b[39mor\u001b[39;00m (\n\u001b[1;32m   3793\u001b[0m         \u001b[39misinstance\u001b[39m(casted_key, abc\u001b[39m.\u001b[39mIterable)\n\u001b[1;32m   3794\u001b[0m         \u001b[39mand\u001b[39;00m \u001b[39many\u001b[39m(\u001b[39misinstance\u001b[39m(x, \u001b[39mslice\u001b[39m) \u001b[39mfor\u001b[39;00m x \u001b[39min\u001b[39;00m casted_key)\n\u001b[1;32m   3795\u001b[0m     ):\n\u001b[1;32m   3796\u001b[0m         \u001b[39mraise\u001b[39;00m InvalidIndexError(key)\n\u001b[0;32m-> 3797\u001b[0m     \u001b[39mraise\u001b[39;00m \u001b[39mKeyError\u001b[39;00m(key) \u001b[39mfrom\u001b[39;00m \u001b[39merr\u001b[39;00m\n\u001b[1;32m   3798\u001b[0m \u001b[39mexcept\u001b[39;00m \u001b[39mTypeError\u001b[39;00m:\n\u001b[1;32m   3799\u001b[0m     \u001b[39m# If we have a listlike key, _check_indexing_error will raise\u001b[39;00m\n\u001b[1;32m   3800\u001b[0m     \u001b[39m#  InvalidIndexError. Otherwise we fall through and re-raise\u001b[39;00m\n\u001b[1;32m   3801\u001b[0m     \u001b[39m#  the TypeError.\u001b[39;00m\n\u001b[1;32m   3802\u001b[0m     \u001b[39mself\u001b[39m\u001b[39m.\u001b[39m_check_indexing_error(key)\n",
      "\u001b[0;31mKeyError\u001b[0m: 0.0030940413752913753"
     ]
    }
   ],
   "source": [
    "total_duration = 8\n",
    "detail = 10\n",
    "time_index = pd.timedelta_range(0, \n",
    "                                periods=meta['fps'] * total_duration * detail, \n",
    "                                freq=str(round(meta['freq'],8)/detail)+'S')\n",
    "\n",
    "time_d_float = time_index.total_seconds()\n",
    "df = pd.DataFrame(index = time_d_float,columns = track_automations.keys())\n",
    "\n",
    "for track in track_automations.keys():\n",
    "    print(track)\n",
    "    for t, v in track_automations[track].items():\n",
    "        vv = float(v['value'])\n",
    "        tt = float(t)\n",
    "        if tt < 0:\n",
    "            continue\n",
    "\n",
    "        print('key value - ',vv,tt)\n",
    "        ix = df.index.get_loc(tt)#, method='nearest')\n",
    "        # idx = df.index[df.index.get_loc(kk, method='nearest')]\n",
    "        # print (ix)\n",
    "        df[track].iloc[ix] = vv\n",
    "df = df.astype(float).dropna(how='all')\n",
    "df['Seconds'] = df.index\n",
    "df.index = pd.Timestamp(datetime.date.today()) + pd.TimedeltaIndex(df.index, unit='s')\n",
    "df = df.interpolate(method='linear', order = 2,axis=0)\n",
    "plot_df(df)\n",
    "df"
   ]
  },
  {
   "cell_type": "code",
   "execution_count": 33,
   "id": "9f723da1-e473-4622-a130-ba807195c742",
   "metadata": {},
   "outputs": [
    {
     "data": {
      "text/plain": [
       "0.033333333"
      ]
     },
     "execution_count": 33,
     "metadata": {},
     "output_type": "execute_result"
    }
   ],
   "source": [
    "resample_presicion = round(1/meta['fps'],9)\n",
    "resample_presicion"
   ]
  },
  {
   "cell_type": "code",
   "execution_count": 34,
   "id": "93ad3caf-5033-413d-baa6-f27afb125392",
   "metadata": {},
   "outputs": [],
   "source": [
    "df = df.resample(str(resample_presicion)+\"S\").mean()"
   ]
  },
  {
   "cell_type": "code",
   "execution_count": 35,
   "id": "0e5c8a3e-9cb8-4346-a5c5-39c6575f2815",
   "metadata": {},
   "outputs": [
    {
     "data": {
      "text/plain": [
       "(240, 6)"
      ]
     },
     "execution_count": 35,
     "metadata": {},
     "output_type": "execute_result"
    }
   ],
   "source": [
    "df.shape"
   ]
  },
  {
   "cell_type": "code",
   "execution_count": 36,
   "id": "31e466a0-64bf-4b4f-bff7-8e500992c46f",
   "metadata": {},
   "outputs": [
    {
     "data": {
      "text/html": [
       "<div>\n",
       "<style scoped>\n",
       "    .dataframe tbody tr th:only-of-type {\n",
       "        vertical-align: middle;\n",
       "    }\n",
       "\n",
       "    .dataframe tbody tr th {\n",
       "        vertical-align: top;\n",
       "    }\n",
       "\n",
       "    .dataframe thead th {\n",
       "        text-align: right;\n",
       "    }\n",
       "</style>\n",
       "<table border=\"1\" class=\"dataframe\">\n",
       "  <thead>\n",
       "    <tr style=\"text-align: right;\">\n",
       "      <th></th>\n",
       "      <th>Kick_Size</th>\n",
       "      <th>Kick_Pan</th>\n",
       "      <th>Hihat</th>\n",
       "      <th>Clap</th>\n",
       "      <th>Bass</th>\n",
       "      <th>Seconds</th>\n",
       "    </tr>\n",
       "  </thead>\n",
       "  <tbody>\n",
       "    <tr>\n",
       "      <th>2022-05-09 00:00:00.000000000</th>\n",
       "      <td>59.096294</td>\n",
       "      <td>1.750000</td>\n",
       "      <td>0.000000</td>\n",
       "      <td>0.000000</td>\n",
       "      <td>0.0</td>\n",
       "      <td>0.014762</td>\n",
       "    </tr>\n",
       "    <tr>\n",
       "      <th>2022-05-09 00:00:00.033333333</th>\n",
       "      <td>117.062166</td>\n",
       "      <td>5.687500</td>\n",
       "      <td>0.000000</td>\n",
       "      <td>0.000000</td>\n",
       "      <td>0.0</td>\n",
       "      <td>0.046667</td>\n",
       "    </tr>\n",
       "    <tr>\n",
       "      <th>2022-05-09 00:00:00.066666666</th>\n",
       "      <td>92.000000</td>\n",
       "      <td>9.625000</td>\n",
       "      <td>0.000000</td>\n",
       "      <td>0.000000</td>\n",
       "      <td>0.0</td>\n",
       "      <td>0.085000</td>\n",
       "    </tr>\n",
       "    <tr>\n",
       "      <th>2022-05-09 00:00:00.099999999</th>\n",
       "      <td>72.000000</td>\n",
       "      <td>13.125000</td>\n",
       "      <td>0.000000</td>\n",
       "      <td>0.000000</td>\n",
       "      <td>0.0</td>\n",
       "      <td>0.118333</td>\n",
       "    </tr>\n",
       "    <tr>\n",
       "      <th>2022-05-09 00:00:00.133333332</th>\n",
       "      <td>52.000000</td>\n",
       "      <td>16.625000</td>\n",
       "      <td>0.000000</td>\n",
       "      <td>0.000000</td>\n",
       "      <td>0.0</td>\n",
       "      <td>0.148333</td>\n",
       "    </tr>\n",
       "    <tr>\n",
       "      <th>...</th>\n",
       "      <td>...</td>\n",
       "      <td>...</td>\n",
       "      <td>...</td>\n",
       "      <td>...</td>\n",
       "      <td>...</td>\n",
       "      <td>...</td>\n",
       "    </tr>\n",
       "    <tr>\n",
       "      <th>2022-05-09 00:00:07.833333255</th>\n",
       "      <td>9.047636</td>\n",
       "      <td>19.185085</td>\n",
       "      <td>81.132746</td>\n",
       "      <td>83.789368</td>\n",
       "      <td>0.0</td>\n",
       "      <td>7.854444</td>\n",
       "    </tr>\n",
       "    <tr>\n",
       "      <th>2022-05-09 00:00:07.866666588</th>\n",
       "      <td>6.143194</td>\n",
       "      <td>18.455990</td>\n",
       "      <td>62.419048</td>\n",
       "      <td>79.727489</td>\n",
       "      <td>0.0</td>\n",
       "      <td>7.878333</td>\n",
       "    </tr>\n",
       "    <tr>\n",
       "      <th>2022-05-09 00:00:07.899999921</th>\n",
       "      <td>2.610357</td>\n",
       "      <td>17.627060</td>\n",
       "      <td>47.352381</td>\n",
       "      <td>75.609325</td>\n",
       "      <td>0.0</td>\n",
       "      <td>7.914999</td>\n",
       "    </tr>\n",
       "    <tr>\n",
       "      <th>2022-05-09 00:00:07.933333254</th>\n",
       "      <td>1.512905</td>\n",
       "      <td>16.575266</td>\n",
       "      <td>27.414839</td>\n",
       "      <td>69.801038</td>\n",
       "      <td>0.0</td>\n",
       "      <td>7.951999</td>\n",
       "    </tr>\n",
       "    <tr>\n",
       "      <th>2022-05-09 00:00:07.966666587</th>\n",
       "      <td>0.436409</td>\n",
       "      <td>15.419866</td>\n",
       "      <td>7.174603</td>\n",
       "      <td>56.993548</td>\n",
       "      <td>0.0</td>\n",
       "      <td>7.986666</td>\n",
       "    </tr>\n",
       "  </tbody>\n",
       "</table>\n",
       "<p>240 rows × 6 columns</p>\n",
       "</div>"
      ],
      "text/plain": [
       "                                Kick_Size   Kick_Pan      Hihat       Clap  \\\n",
       "2022-05-09 00:00:00.000000000   59.096294   1.750000   0.000000   0.000000   \n",
       "2022-05-09 00:00:00.033333333  117.062166   5.687500   0.000000   0.000000   \n",
       "2022-05-09 00:00:00.066666666   92.000000   9.625000   0.000000   0.000000   \n",
       "2022-05-09 00:00:00.099999999   72.000000  13.125000   0.000000   0.000000   \n",
       "2022-05-09 00:00:00.133333332   52.000000  16.625000   0.000000   0.000000   \n",
       "...                                   ...        ...        ...        ...   \n",
       "2022-05-09 00:00:07.833333255    9.047636  19.185085  81.132746  83.789368   \n",
       "2022-05-09 00:00:07.866666588    6.143194  18.455990  62.419048  79.727489   \n",
       "2022-05-09 00:00:07.899999921    2.610357  17.627060  47.352381  75.609325   \n",
       "2022-05-09 00:00:07.933333254    1.512905  16.575266  27.414839  69.801038   \n",
       "2022-05-09 00:00:07.966666587    0.436409  15.419866   7.174603  56.993548   \n",
       "\n",
       "                               Bass   Seconds  \n",
       "2022-05-09 00:00:00.000000000   0.0  0.014762  \n",
       "2022-05-09 00:00:00.033333333   0.0  0.046667  \n",
       "2022-05-09 00:00:00.066666666   0.0  0.085000  \n",
       "2022-05-09 00:00:00.099999999   0.0  0.118333  \n",
       "2022-05-09 00:00:00.133333332   0.0  0.148333  \n",
       "...                             ...       ...  \n",
       "2022-05-09 00:00:07.833333255   0.0  7.854444  \n",
       "2022-05-09 00:00:07.866666588   0.0  7.878333  \n",
       "2022-05-09 00:00:07.899999921   0.0  7.914999  \n",
       "2022-05-09 00:00:07.933333254   0.0  7.951999  \n",
       "2022-05-09 00:00:07.966666587   0.0  7.986666  \n",
       "\n",
       "[240 rows x 6 columns]"
      ]
     },
     "execution_count": 36,
     "metadata": {},
     "output_type": "execute_result"
    }
   ],
   "source": [
    "df"
   ]
  },
  {
   "cell_type": "code",
   "execution_count": 38,
   "id": "e930687c-a9f6-42d1-b5d8-e95d5356654b",
   "metadata": {},
   "outputs": [],
   "source": [
    "df = df.reset_index().drop(columns = ['index','Seconds'])"
   ]
  },
  {
   "cell_type": "code",
   "execution_count": 39,
   "id": "39bceed4-5705-4dca-b080-be9088b3d556",
   "metadata": {},
   "outputs": [
    {
     "data": {
      "text/html": [
       "<div>\n",
       "<style scoped>\n",
       "    .dataframe tbody tr th:only-of-type {\n",
       "        vertical-align: middle;\n",
       "    }\n",
       "\n",
       "    .dataframe tbody tr th {\n",
       "        vertical-align: top;\n",
       "    }\n",
       "\n",
       "    .dataframe thead th {\n",
       "        text-align: right;\n",
       "    }\n",
       "</style>\n",
       "<table border=\"1\" class=\"dataframe\">\n",
       "  <thead>\n",
       "    <tr style=\"text-align: right;\">\n",
       "      <th></th>\n",
       "      <th>Kick_Size</th>\n",
       "      <th>Kick_Pan</th>\n",
       "      <th>Hihat</th>\n",
       "      <th>Clap</th>\n",
       "      <th>Bass</th>\n",
       "    </tr>\n",
       "  </thead>\n",
       "  <tbody>\n",
       "    <tr>\n",
       "      <th>0</th>\n",
       "      <td>59.096294</td>\n",
       "      <td>1.750000</td>\n",
       "      <td>0.000000</td>\n",
       "      <td>0.000000</td>\n",
       "      <td>0.0</td>\n",
       "    </tr>\n",
       "    <tr>\n",
       "      <th>1</th>\n",
       "      <td>117.062166</td>\n",
       "      <td>5.687500</td>\n",
       "      <td>0.000000</td>\n",
       "      <td>0.000000</td>\n",
       "      <td>0.0</td>\n",
       "    </tr>\n",
       "    <tr>\n",
       "      <th>2</th>\n",
       "      <td>92.000000</td>\n",
       "      <td>9.625000</td>\n",
       "      <td>0.000000</td>\n",
       "      <td>0.000000</td>\n",
       "      <td>0.0</td>\n",
       "    </tr>\n",
       "    <tr>\n",
       "      <th>3</th>\n",
       "      <td>72.000000</td>\n",
       "      <td>13.125000</td>\n",
       "      <td>0.000000</td>\n",
       "      <td>0.000000</td>\n",
       "      <td>0.0</td>\n",
       "    </tr>\n",
       "    <tr>\n",
       "      <th>4</th>\n",
       "      <td>52.000000</td>\n",
       "      <td>16.625000</td>\n",
       "      <td>0.000000</td>\n",
       "      <td>0.000000</td>\n",
       "      <td>0.0</td>\n",
       "    </tr>\n",
       "    <tr>\n",
       "      <th>...</th>\n",
       "      <td>...</td>\n",
       "      <td>...</td>\n",
       "      <td>...</td>\n",
       "      <td>...</td>\n",
       "      <td>...</td>\n",
       "    </tr>\n",
       "    <tr>\n",
       "      <th>235</th>\n",
       "      <td>9.047636</td>\n",
       "      <td>19.185085</td>\n",
       "      <td>81.132746</td>\n",
       "      <td>83.789368</td>\n",
       "      <td>0.0</td>\n",
       "    </tr>\n",
       "    <tr>\n",
       "      <th>236</th>\n",
       "      <td>6.143194</td>\n",
       "      <td>18.455990</td>\n",
       "      <td>62.419048</td>\n",
       "      <td>79.727489</td>\n",
       "      <td>0.0</td>\n",
       "    </tr>\n",
       "    <tr>\n",
       "      <th>237</th>\n",
       "      <td>2.610357</td>\n",
       "      <td>17.627060</td>\n",
       "      <td>47.352381</td>\n",
       "      <td>75.609325</td>\n",
       "      <td>0.0</td>\n",
       "    </tr>\n",
       "    <tr>\n",
       "      <th>238</th>\n",
       "      <td>1.512905</td>\n",
       "      <td>16.575266</td>\n",
       "      <td>27.414839</td>\n",
       "      <td>69.801038</td>\n",
       "      <td>0.0</td>\n",
       "    </tr>\n",
       "    <tr>\n",
       "      <th>239</th>\n",
       "      <td>0.436409</td>\n",
       "      <td>15.419866</td>\n",
       "      <td>7.174603</td>\n",
       "      <td>56.993548</td>\n",
       "      <td>0.0</td>\n",
       "    </tr>\n",
       "  </tbody>\n",
       "</table>\n",
       "<p>240 rows × 5 columns</p>\n",
       "</div>"
      ],
      "text/plain": [
       "      Kick_Size   Kick_Pan      Hihat       Clap  Bass\n",
       "0     59.096294   1.750000   0.000000   0.000000   0.0\n",
       "1    117.062166   5.687500   0.000000   0.000000   0.0\n",
       "2     92.000000   9.625000   0.000000   0.000000   0.0\n",
       "3     72.000000  13.125000   0.000000   0.000000   0.0\n",
       "4     52.000000  16.625000   0.000000   0.000000   0.0\n",
       "..          ...        ...        ...        ...   ...\n",
       "235    9.047636  19.185085  81.132746  83.789368   0.0\n",
       "236    6.143194  18.455990  62.419048  79.727489   0.0\n",
       "237    2.610357  17.627060  47.352381  75.609325   0.0\n",
       "238    1.512905  16.575266  27.414839  69.801038   0.0\n",
       "239    0.436409  15.419866   7.174603  56.993548   0.0\n",
       "\n",
       "[240 rows x 5 columns]"
      ]
     },
     "execution_count": 39,
     "metadata": {},
     "output_type": "execute_result"
    }
   ],
   "source": [
    "df"
   ]
  },
  {
   "cell_type": "code",
   "execution_count": 40,
   "id": "d23e595b-0c81-47ad-857c-8715f293a1cd",
   "metadata": {},
   "outputs": [
    {
     "data": {
      "text/plain": [
       "'/Users/Alper/Documents/Processing/Sense/Test.csv'"
      ]
     },
     "execution_count": 40,
     "metadata": {},
     "output_type": "execute_result"
    }
   ],
   "source": [
    "output_file = os.path.join(processing_folder, 'Test.csv')\n",
    "output_file"
   ]
  },
  {
   "cell_type": "code",
   "execution_count": 41,
   "id": "59ec0446-057c-49fc-92a3-861ad74090e5",
   "metadata": {},
   "outputs": [
    {
     "data": {
      "text/html": [
       "<div>\n",
       "<style scoped>\n",
       "    .dataframe tbody tr th:only-of-type {\n",
       "        vertical-align: middle;\n",
       "    }\n",
       "\n",
       "    .dataframe tbody tr th {\n",
       "        vertical-align: top;\n",
       "    }\n",
       "\n",
       "    .dataframe thead th {\n",
       "        text-align: right;\n",
       "    }\n",
       "</style>\n",
       "<table border=\"1\" class=\"dataframe\">\n",
       "  <thead>\n",
       "    <tr style=\"text-align: right;\">\n",
       "      <th></th>\n",
       "      <th>Kick_Size</th>\n",
       "      <th>Kick_Pan</th>\n",
       "      <th>Hihat</th>\n",
       "      <th>Clap</th>\n",
       "      <th>Bass</th>\n",
       "    </tr>\n",
       "  </thead>\n",
       "  <tbody>\n",
       "    <tr>\n",
       "      <th>0</th>\n",
       "      <td>59.096294</td>\n",
       "      <td>1.750000</td>\n",
       "      <td>0.000000</td>\n",
       "      <td>0.000000</td>\n",
       "      <td>0.0</td>\n",
       "    </tr>\n",
       "    <tr>\n",
       "      <th>1</th>\n",
       "      <td>117.062166</td>\n",
       "      <td>5.687500</td>\n",
       "      <td>0.000000</td>\n",
       "      <td>0.000000</td>\n",
       "      <td>0.0</td>\n",
       "    </tr>\n",
       "    <tr>\n",
       "      <th>2</th>\n",
       "      <td>92.000000</td>\n",
       "      <td>9.625000</td>\n",
       "      <td>0.000000</td>\n",
       "      <td>0.000000</td>\n",
       "      <td>0.0</td>\n",
       "    </tr>\n",
       "    <tr>\n",
       "      <th>3</th>\n",
       "      <td>72.000000</td>\n",
       "      <td>13.125000</td>\n",
       "      <td>0.000000</td>\n",
       "      <td>0.000000</td>\n",
       "      <td>0.0</td>\n",
       "    </tr>\n",
       "    <tr>\n",
       "      <th>4</th>\n",
       "      <td>52.000000</td>\n",
       "      <td>16.625000</td>\n",
       "      <td>0.000000</td>\n",
       "      <td>0.000000</td>\n",
       "      <td>0.0</td>\n",
       "    </tr>\n",
       "    <tr>\n",
       "      <th>...</th>\n",
       "      <td>...</td>\n",
       "      <td>...</td>\n",
       "      <td>...</td>\n",
       "      <td>...</td>\n",
       "      <td>...</td>\n",
       "    </tr>\n",
       "    <tr>\n",
       "      <th>235</th>\n",
       "      <td>9.047636</td>\n",
       "      <td>19.185085</td>\n",
       "      <td>81.132746</td>\n",
       "      <td>83.789368</td>\n",
       "      <td>0.0</td>\n",
       "    </tr>\n",
       "    <tr>\n",
       "      <th>236</th>\n",
       "      <td>6.143194</td>\n",
       "      <td>18.455990</td>\n",
       "      <td>62.419048</td>\n",
       "      <td>79.727489</td>\n",
       "      <td>0.0</td>\n",
       "    </tr>\n",
       "    <tr>\n",
       "      <th>237</th>\n",
       "      <td>2.610357</td>\n",
       "      <td>17.627060</td>\n",
       "      <td>47.352381</td>\n",
       "      <td>75.609325</td>\n",
       "      <td>0.0</td>\n",
       "    </tr>\n",
       "    <tr>\n",
       "      <th>238</th>\n",
       "      <td>1.512905</td>\n",
       "      <td>16.575266</td>\n",
       "      <td>27.414839</td>\n",
       "      <td>69.801038</td>\n",
       "      <td>0.0</td>\n",
       "    </tr>\n",
       "    <tr>\n",
       "      <th>239</th>\n",
       "      <td>0.436409</td>\n",
       "      <td>15.419866</td>\n",
       "      <td>7.174603</td>\n",
       "      <td>56.993548</td>\n",
       "      <td>0.0</td>\n",
       "    </tr>\n",
       "  </tbody>\n",
       "</table>\n",
       "<p>240 rows × 5 columns</p>\n",
       "</div>"
      ],
      "text/plain": [
       "      Kick_Size   Kick_Pan      Hihat       Clap  Bass\n",
       "0     59.096294   1.750000   0.000000   0.000000   0.0\n",
       "1    117.062166   5.687500   0.000000   0.000000   0.0\n",
       "2     92.000000   9.625000   0.000000   0.000000   0.0\n",
       "3     72.000000  13.125000   0.000000   0.000000   0.0\n",
       "4     52.000000  16.625000   0.000000   0.000000   0.0\n",
       "..          ...        ...        ...        ...   ...\n",
       "235    9.047636  19.185085  81.132746  83.789368   0.0\n",
       "236    6.143194  18.455990  62.419048  79.727489   0.0\n",
       "237    2.610357  17.627060  47.352381  75.609325   0.0\n",
       "238    1.512905  16.575266  27.414839  69.801038   0.0\n",
       "239    0.436409  15.419866   7.174603  56.993548   0.0\n",
       "\n",
       "[240 rows x 5 columns]"
      ]
     },
     "execution_count": 41,
     "metadata": {},
     "output_type": "execute_result"
    }
   ],
   "source": [
    "df"
   ]
  },
  {
   "cell_type": "code",
   "execution_count": 43,
   "id": "42aae0fd-60f3-4e31-895d-85da74100d6d",
   "metadata": {},
   "outputs": [],
   "source": [
    "df.to_csv(output_file)"
   ]
  },
  {
   "cell_type": "markdown",
   "id": "2bb9e354-6993-47c2-900e-db3fe93d3e4d",
   "metadata": {},
   "source": [
    "### Prapare DF for 30 FPS\n",
    "- Resample\n",
    "- Interpolate\n",
    "- ForwardFill\n",
    "- Fill 0"
   ]
  },
  {
   "cell_type": "code",
   "execution_count": 210,
   "id": "8fd2e8c2-3005-4777-9a2c-19e0b57c1df9",
   "metadata": {},
   "outputs": [],
   "source": [
    "# resample_presicion = round(1/meta['fps'],9)\n",
    "# print(resample_presicion)\n",
    "\n",
    "# # resample to make it run with a specific FPS\n",
    "# # interpolate again\n",
    "# # front fill\n",
    "# # fill 0\n",
    "\n",
    "# # ‘krogh’, ‘piecewise_polynomial’, ‘spline’, ‘pchip’, ‘akima’, ‘cubicspline’\n",
    "\n",
    "# df3 = df2.resample(str(0.01)+\"S\").mean()#.interpolate(method='spline', order = 4,axis=0).ffill().fillna(0)\n",
    "# df3\n"
   ]
  },
  {
   "cell_type": "code",
   "execution_count": 157,
   "id": "a4e680fe-ed5a-48d6-a57d-8197ca5d25fe",
   "metadata": {},
   "outputs": [],
   "source": [
    "# xx = df.iloc[:50]#.interpolate(method='linear', order = 2,axis=0)#.resample(str(0.01)+\"S\").mean().interpolate(method='linear', order = 2,axis=0)\n",
    "# # xx#.iloc[:52]\n",
    "# plot_df(xx)\n",
    "# xx"
   ]
  },
  {
   "cell_type": "code",
   "execution_count": 211,
   "id": "edc900c4-82e4-484a-a6f3-671d5971977e",
   "metadata": {},
   "outputs": [],
   "source": [
    "# df = automations_dict_to_df(track_automations)\n",
    "\n",
    "# # Retrieve metadata\n",
    "# meta = calculator(bpm=120,fps=30)\n",
    "# print(meta)\n",
    "\n",
    "# # first interpolation \n",
    "# # front fill\n",
    "# # fill 0\n",
    "# df = df.interpolate(method='linear', order = 2,axis=0).ffill().fillna(0) \n",
    "\n",
    "# # set resample precision\n",
    "# resample_presicion = round(1/meta['fps'],9)\n",
    "# print(resample_presicion)\n",
    "\n",
    "# # resample to make it run with a specific FPS\n",
    "# # interpolate again\n",
    "# # front fill\n",
    "# # fill 0\n",
    "\n",
    "# # ‘krogh’, ‘piecewise_polynomial’, ‘spline’, ‘pchip’, ‘akima’, ‘cubicspline’\n",
    "\n",
    "# df = df.resample(str(0.01)+\"S\").mean()#.interpolate(method='spline', order = 4,axis=0).ffill().fillna(0)\n",
    "\n",
    "# plot_df(df)"
   ]
  },
  {
   "cell_type": "code",
   "execution_count": 212,
   "id": "843d152a-73b9-406b-bbbe-f9ca761cc179",
   "metadata": {},
   "outputs": [],
   "source": [
    "# resample_presicion = round(1/10,9)\n",
    "\n",
    "\n",
    "\n",
    "\n",
    "# # msno.matrix(df2)\n",
    "# plot_df(df2)"
   ]
  }
 ],
 "metadata": {
  "kernelspec": {
   "display_name": "Python 3 (ipykernel)",
   "language": "python",
   "name": "python3"
  },
  "language_info": {
   "codemirror_mode": {
    "name": "ipython",
    "version": 3
   },
   "file_extension": ".py",
   "mimetype": "text/x-python",
   "name": "python",
   "nbconvert_exporter": "python",
   "pygments_lexer": "ipython3",
   "version": "3.10.13"
  }
 },
 "nbformat": 4,
 "nbformat_minor": 5
}
